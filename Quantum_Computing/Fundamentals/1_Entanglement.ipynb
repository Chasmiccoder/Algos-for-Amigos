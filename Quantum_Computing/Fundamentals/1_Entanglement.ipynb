{
 "cells": [
  {
   "cell_type": "markdown",
   "id": "92a1fa03-7cf0-4546-bc5f-b197c11e4412",
   "metadata": {},
   "source": [
    "### Quantum Entanglement\n",
    "\n",
    "Exploring the basics of qiskit by setting up 2 qubits in entanglement\n",
    "\n",
    "---\n",
    "Done as part of the NPTEL Course - Introduction to Quantum Computing: Quantum Algorithms and Qiskit\n",
    "https://onlinecourses.nptel.ac.in/noc21_cs103/preview"
   ]
  },
  {
   "cell_type": "code",
   "execution_count": 1,
   "id": "a91d1a0f-7e65-46cc-bbf5-a0a753b5eaf1",
   "metadata": {},
   "outputs": [
    {
     "name": "stdout",
     "output_type": "stream",
     "text": [
      "Process Complete!\n"
     ]
    }
   ],
   "source": [
    "# Importingstandard Qiskit libraries\n",
    "from qiskit import QuantumCircuit, execute, Aer, IBMQ\n",
    "from qiskit.compiler import transpile, assemble\n",
    "from qiskit.tools.jupyter import *\n",
    "from qiskit.visualization import plot_histogram\n",
    "from ibm_quantum_widgets import *\n",
    "\n",
    "# Loading the IBM Q Account\n",
    "provider = IBMQ.load_account()\n",
    "print(\"Process Complete!\")"
   ]
  },
  {
   "cell_type": "code",
   "execution_count": 13,
   "id": "57915954-0ee0-4394-83d8-e368c3d07241",
   "metadata": {},
   "outputs": [
    {
     "data": {
      "image/png": "[encoded data removed]",
      "text/plain": [
       "<Figure size 327.252x204.68 with 1 Axes>"
      ]
     },
     "execution_count": 13,
     "metadata": {},
     "output_type": "execute_result"
    }
   ],
   "source": [
    "# Creating a Quantum Circuit with 2 Qubits (Q0, C0) and 2 Classical Registers (Q1, C1)\n",
    "qc = QuantumCircuit(2,2)\n",
    "\n",
    "# Applying Hadamard on the 0th Qubit\n",
    "qc.h(0)\n",
    "\n",
    "# CNOT Gate with the source as the 0th Qubit and the target as the 1st Qubit \n",
    "qc.cx(0,1)\n",
    "\n",
    "# Map Q0 to C0 and Q1 to C1\n",
    "qc.measure( range(2), range(2) )\n",
    "\n",
    "qc.draw()"
   ]
  },
  {
   "cell_type": "code",
   "execution_count": 16,
   "id": "dd4f8543-50d4-4e4a-9b88-d80ae3ff26e0",
   "metadata": {},
   "outputs": [
    {
     "name": "stdout",
     "output_type": "stream",
     "text": [
      "Counts: {'00': 486, '11': 538}\n"
     ]
    },
    {
     "data": {
      "image/png": "[encoded data removed]",
      "text/plain": [
       "<Figure size 504x360 with 1 Axes>"
      ]
     },
     "execution_count": 16,
     "metadata": {},
     "output_type": "execute_result"
    }
   ],
   "source": [
    "# Simulation (Aer is for simulations)\n",
    "\n",
    "# Defining a backend which mentions where to run the Quantum Circuit (Using the qasm simulator for now)\n",
    "backend = Aer.get_backend('qasm_simulator')\n",
    "job_simulator = execute(qc, backend, shots = 1024)\n",
    "\n",
    "results_simulator = job_simulator.result()\n",
    "counts = results_simulator.get_counts(qc)\n",
    "\n",
    "print(\"Counts:\", counts)\n",
    "\n",
    "plot_histogram(counts)"
   ]
  },
  {
   "cell_type": "code",
   "execution_count": 17,
   "id": "817dd54c-5bc4-4511-a863-8d251f58a0bc",
   "metadata": {},
   "outputs": [
    {
     "data": {
      "text/plain": [
       "[<IBMQSimulator('ibmq_qasm_simulator') from IBMQ(hub='ibm-q', group='open', project='main')>,\n",
       " <IBMQBackend('ibmq_armonk') from IBMQ(hub='ibm-q', group='open', project='main')>,\n",
       " <IBMQBackend('ibmq_santiago') from IBMQ(hub='ibm-q', group='open', project='main')>,\n",
       " <IBMQBackend('ibmq_bogota') from IBMQ(hub='ibm-q', group='open', project='main')>,\n",
       " <IBMQBackend('ibmq_lima') from IBMQ(hub='ibm-q', group='open', project='main')>,\n",
       " <IBMQBackend('ibmq_belem') from IBMQ(hub='ibm-q', group='open', project='main')>,\n",
       " <IBMQBackend('ibmq_quito') from IBMQ(hub='ibm-q', group='open', project='main')>,\n",
       " <IBMQSimulator('simulator_statevector') from IBMQ(hub='ibm-q', group='open', project='main')>,\n",
       " <IBMQSimulator('simulator_mps') from IBMQ(hub='ibm-q', group='open', project='main')>,\n",
       " <IBMQSimulator('simulator_extended_stabilizer') from IBMQ(hub='ibm-q', group='open', project='main')>,\n",
       " <IBMQSimulator('simulator_stabilizer') from IBMQ(hub='ibm-q', group='open', project='main')>,\n",
       " <IBMQBackend('ibmq_manila') from IBMQ(hub='ibm-q', group='open', project='main')>]"
      ]
     },
     "execution_count": 17,
     "metadata": {},
     "output_type": "execute_result"
    }
   ],
   "source": [
    "provider.backends() # backends available to this account"
   ]
  },
  {
   "cell_type": "code",
   "execution_count": 20,
   "id": "c7dcbc5d-a1bb-4085-9c62-9a920180141f",
   "metadata": {},
   "outputs": [
    {
     "name": "stdout",
     "output_type": "stream",
     "text": [
      "Counts: {'00': 464, '01': 43, '10': 56, '11': 461}\n"
     ]
    },
    {
     "data": {
      "image/png": "[encoded data removed]",
      "text/plain": [
       "<Figure size 504x360 with 1 Axes>"
      ]
     },
     "execution_count": 20,
     "metadata": {},
     "output_type": "execute_result"
    }
   ],
   "source": [
    "# Actually running it on a Quantum Computer (same code as before)\n",
    "\n",
    "backend = provider.get_backend(\"ibmq_belem\")\n",
    "job_simulator = execute(qc, backend, shots = 1024)\n",
    "\n",
    "results_simulator = job_simulator.result()\n",
    "counts = results_simulator.get_counts(qc)\n",
    "\n",
    "print(\"Counts:\", counts)\n",
    "\n",
    "plot_histogram(counts)"
   ]
  },
  {
   "cell_type": "code",
   "execution_count": null,
   "id": "f56d1976-7db4-4f3b-90e3-2adbcfa9a7f4",
   "metadata": {},
   "outputs": [],
   "source": []
  }
 ],
 "metadata": {
  "kernelspec": {
   "display_name": "Qiskit v0.30.1 (ipykernel)",
   "language": "python",
   "name": "python3"
  },
  "language_info": {
   "codemirror_mode": {
    "name": "ipython",
    "version": 3
   },
   "file_extension": ".py",
   "mimetype": "text/x-python",
   "name": "python",
   "nbconvert_exporter": "python",
   "pygments_lexer": "ipython3",
   "version": "3.8.10"
  },
  "widgets": {
   "application/vnd.jupyter.widget-state+json": {
    "state": {},
    "version_major": 2,
    "version_minor": 0
   }
  }
 },
 "nbformat": 4,
 "nbformat_minor": 5
}
