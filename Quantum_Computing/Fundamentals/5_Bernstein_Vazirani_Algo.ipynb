{
 "cells": [
  {
   "cell_type": "markdown",
   "id": "b1347ca6-e32b-4496-9f3e-a9eeaa2b98bb",
   "metadata": {},
   "source": [
    "### Bernstein Vazirani Algorithm\n",
    "\n",
    "Given a function, we want to find **a** such that f(x) = **a**.x mod 2  \n",
    "Check out - https://www.youtube.com/watch?v=sqJIpHYl7oo\n",
    "\n",
    "---\n",
    "Done as part of the NPTEL Course - Introduction to Quantum Computing: Quantum Algorithms and Qiskit\n",
    "https://onlinecourses.nptel.ac.in/noc21_cs103/preview"
   ]
  },
  {
   "cell_type": "code",
   "execution_count": 10,
   "id": "6cc7ec41-07fb-4ed9-8f1f-401f77dabbc5",
   "metadata": {},
   "outputs": [
    {
     "name": "stderr",
     "output_type": "stream",
     "text": [
      "ibmqfactory.load_account:WARNING:2021-10-20 13:29:54,570: Credentials are already in use. The existing account in the session will be replaced.\n"
     ]
    },
    {
     "name": "stdout",
     "output_type": "stream",
     "text": [
      "Process Complete!\n"
     ]
    }
   ],
   "source": [
    "# Importingstandard Qiskit libraries\n",
    "from qiskit import QuantumCircuit, execute, Aer, IBMQ\n",
    "from qiskit.compiler import transpile, assemble\n",
    "from qiskit.tools.jupyter import *\n",
    "from qiskit.visualization import plot_histogram\n",
    "from ibm_quantum_widgets import *\n",
    "\n",
    "from qiskit import QuantumRegister, ClassicalRegister, QuantumCircuit\n",
    "from numpy import pi\n",
    "\n",
    "# Loading the IBM Q Account\n",
    "provider = IBMQ.load_account()\n",
    "print(\"Process Complete!\")"
   ]
  },
  {
   "cell_type": "code",
   "execution_count": 15,
   "id": "e0dc65af-ac25-4ae0-bc1b-a0561107f59a",
   "metadata": {},
   "outputs": [
    {
     "data": {
      "image/png": "[encoded data removed]",
      "text/plain": [
       "<Figure size 808.997x325.08 with 1 Axes>"
      ]
     },
     "execution_count": 15,
     "metadata": {},
     "output_type": "execute_result"
    }
   ],
   "source": [
    "\"\"\"\n",
    "We are given a Quantum Oracle with a 'hidden number' a\n",
    "With 1 query we need to find a. Takes n queries in the classical scenario, \n",
    "where n is the number of bits it takes to store a\n",
    "\"\"\"\n",
    "\n",
    "qreg_q = QuantumRegister(4, 'q')\n",
    "creg_c = ClassicalRegister(4, 'c')\n",
    "circuit = QuantumCircuit(qreg_q, creg_c)\n",
    "\n",
    "\"\"\"\n",
    "Making the input |0001>\n",
    "\"\"\"\n",
    "circuit.x(qreg_q[3])\n",
    "circuit.barrier(qreg_q[3], qreg_q[0], qreg_q[1], qreg_q[2])\n",
    "\n",
    "\n",
    "\"\"\"\n",
    "Step 1 - Hadamard Transform\n",
    "Setting the state to |+++->\n",
    "\"\"\"\n",
    "circuit.h(qreg_q[0])\n",
    "circuit.h(qreg_q[1])\n",
    "circuit.h(qreg_q[2])\n",
    "circuit.h(qreg_q[3])\n",
    "circuit.barrier(qreg_q[3], qreg_q[0], qreg_q[1], qreg_q[2])\n",
    "\n",
    "\"\"\"\n",
    "Step 2 - Implementation of the Oracle\n",
    "Change this according to the 'a' you want to store. Add a CNOT where you want to store 1\n",
    "This won't be visible to the party that is trying to guess 'a'\n",
    "For now, a = 101\n",
    "\"\"\"\n",
    "circuit.cx(qreg_q[0], qreg_q[3])\n",
    "circuit.cx(qreg_q[2], qreg_q[3])\n",
    "\n",
    "circuit.barrier(qreg_q[3], qreg_q[0], qreg_q[1], qreg_q[2])\n",
    "\n",
    "\n",
    "\"\"\"\n",
    "Step 3 - Hadamard on Input Qubits\n",
    "\"\"\"\n",
    "circuit.h(qreg_q[0])\n",
    "circuit.h(qreg_q[1])\n",
    "circuit.h(qreg_q[2])\n",
    "circuit.barrier()\n",
    "\n",
    "          \n",
    "\"\"\"\n",
    "Step 4 - Measure the first n qubits\n",
    "\"\"\"\n",
    "circuit.measure(qreg_q[0], creg_c[0])\n",
    "circuit.measure(qreg_q[1], creg_c[1])\n",
    "circuit.measure(qreg_q[2], creg_c[2])\n",
    "circuit.draw()"
   ]
  },
  {
   "cell_type": "code",
   "execution_count": 16,
   "id": "a8a6cafc-42cc-4a4a-8ad6-7fbb114179a9",
   "metadata": {},
   "outputs": [
    {
     "name": "stdout",
     "output_type": "stream",
     "text": [
      "Counts: {'0101': 1024}\n"
     ]
    },
    {
     "data": {
      "image/png": "[encoded data removed]",
      "text/plain": [
       "<Figure size 504x360 with 1 Axes>"
      ]
     },
     "execution_count": 16,
     "metadata": {},
     "output_type": "execute_result"
    }
   ],
   "source": [
    "backend = Aer.get_backend('qasm_simulator')\n",
    "job_simulator = execute(circuit, backend, shots = 1024)\n",
    "\n",
    "results_simulator = job_simulator.result()\n",
    "counts = results_simulator.get_counts(circuit)\n",
    "\n",
    "print(\"Counts:\", counts)\n",
    "plot_histogram(counts)"
   ]
  },
  {
   "cell_type": "code",
   "execution_count": null,
   "id": "cf7dc097-efd5-49da-b18a-6689e3f572f5",
   "metadata": {},
   "outputs": [],
   "source": []
  }
 ],
 "metadata": {
  "kernelspec": {
   "display_name": "Qiskit v0.31.0 (ipykernel)",
   "language": "python",
   "name": "python3"
  },
  "language_info": {
   "codemirror_mode": {
    "name": "ipython",
    "version": 3
   },
   "file_extension": ".py",
   "mimetype": "text/x-python",
   "name": "python",
   "nbconvert_exporter": "python",
   "pygments_lexer": "ipython3",
   "version": "3.8.10"
  },
  "widgets": {
   "application/vnd.jupyter.widget-state+json": {
    "state": {
     "0d1aaa7cac1f44fbb8af4d68736c9d5f": {
      "model_module": "@jupyter-widgets/controls",
      "model_module_version": "1.5.0",
      "model_name": "HTMLModel",
      "state": {
       "layout": "IPY_MODEL_88a1c0ef2db9472799c466954e010d5f",
       "style": "IPY_MODEL_e78b872f68e946dfad52d356dacc1963",
       "value": "<p style='font-family: IBM Plex Sans, Arial, Helvetica, sans-serif; font-size: 20px; font-weight: medium;'>Circuit Properties</p>"
      }
     },
     "19d05162322f45da9fc3539e671774da": {
      "model_module": "@jupyter-widgets/controls",
      "model_module_version": "1.5.0",
      "model_name": "HTMLModel",
      "state": {
       "layout": "IPY_MODEL_f6e1068eb92941f5bdfabe6f81b00214",
       "style": "IPY_MODEL_352976013cd343b8a12d0f00cfb04630",
       "value": "<h5>Status</h5>"
      }
     },
     "352976013cd343b8a12d0f00cfb04630": {
      "model_module": "@jupyter-widgets/controls",
      "model_module_version": "1.5.0",
      "model_name": "DescriptionStyleModel",
      "state": {
       "description_width": ""
      }
     },
     "3a23a954cc4c4ff0986b89469d8219c2": {
      "model_module": "@jupyter-widgets/controls",
      "model_module_version": "1.5.0",
      "model_name": "HTMLModel",
      "state": {
       "layout": "IPY_MODEL_4d93319fe0864dfdb09c96905cf1192f",
       "style": "IPY_MODEL_9863563a2ee24e529e2afc65b088b677",
       "value": "<h5>Queue</h5>"
      }
     },
     "3df7f060d64b4be7bcc43068bb1255dc": {
      "model_module": "@jupyter-widgets/controls",
      "model_module_version": "1.5.0",
      "model_name": "ButtonStyleModel",
      "state": {}
     },
     "410eaa0fe79c4f078cbd523964592aa6": {
      "model_module": "@jupyter-widgets/controls",
      "model_module_version": "1.5.0",
      "model_name": "DescriptionStyleModel",
      "state": {
       "description_width": ""
      }
     },
     "486e3a760f0c49d883d3ef056bbfc031": {
      "model_module": "@jupyter-widgets/base",
      "model_module_version": "1.2.0",
      "model_name": "LayoutModel",
      "state": {
       "width": "145px"
      }
     },
     "48b5f62163fd4053a054926b14f2d0b5": {
      "model_module": "@jupyter-widgets/controls",
      "model_module_version": "1.5.0",
      "model_name": "ButtonModel",
      "state": {
       "button_style": "primary",
       "description": "Clear",
       "layout": "IPY_MODEL_ab63db62abcb44dfa88b72d98711bf49",
       "style": "IPY_MODEL_3df7f060d64b4be7bcc43068bb1255dc"
      }
     },
     "4d338ba8db204c4c9370abee46db4d26": {
      "model_module": "@jupyter-widgets/controls",
      "model_module_version": "1.5.0",
      "model_name": "HTMLModel",
      "state": {
       "layout": "IPY_MODEL_60600f1512b94c7a991c0c7affb883f8",
       "style": "IPY_MODEL_ab5f08228de447afbe8241291e87ed5b",
       "value": "<h5>Job ID</h5>"
      }
     },
     "4d93319fe0864dfdb09c96905cf1192f": {
      "model_module": "@jupyter-widgets/base",
      "model_module_version": "1.2.0",
      "model_name": "LayoutModel",
      "state": {
       "width": "70px"
      }
     },
     "60600f1512b94c7a991c0c7affb883f8": {
      "model_module": "@jupyter-widgets/base",
      "model_module_version": "1.2.0",
      "model_name": "LayoutModel",
      "state": {
       "width": "190px"
      }
     },
     "6c476a7f95d244c3909978b2ebd20074": {
      "model_module": "@jupyter-widgets/controls",
      "model_module_version": "1.5.0",
      "model_name": "HBoxModel",
      "state": {
       "children": [
        "IPY_MODEL_4d338ba8db204c4c9370abee46db4d26",
        "IPY_MODEL_f3658dd773eb44a0af761a589414ccef",
        "IPY_MODEL_19d05162322f45da9fc3539e671774da",
        "IPY_MODEL_3a23a954cc4c4ff0986b89469d8219c2",
        "IPY_MODEL_ea8d6f25cb7648d99b23a803a0d5e2bd"
       ],
       "layout": "IPY_MODEL_87935794e18646d4b85b0a0bd2ac75cb"
      }
     },
     "7434e41be7d34fe89c056afa472addb6": {
      "model_module": "@jupyter-widgets/controls",
      "model_module_version": "1.5.0",
      "model_name": "GridBoxModel",
      "state": {
       "children": [
        "IPY_MODEL_48b5f62163fd4053a054926b14f2d0b5"
       ],
       "layout": "IPY_MODEL_7527654301014dfca869f956ebb37ebc"
      }
     },
     "7527654301014dfca869f956ebb37ebc": {
      "model_module": "@jupyter-widgets/base",
      "model_module_version": "1.2.0",
      "model_name": "LayoutModel",
      "state": {
       "grid_template_areas": "\n                                       \". . . . right \"\n                                        ",
       "grid_template_columns": "20% 20% 20% 20% 20%",
       "width": "100%"
      }
     },
     "87935794e18646d4b85b0a0bd2ac75cb": {
      "model_module": "@jupyter-widgets/base",
      "model_module_version": "1.2.0",
      "model_name": "LayoutModel",
      "state": {
       "margin": "0px 0px 0px 37px",
       "width": "600px"
      }
     },
     "88a1c0ef2db9472799c466954e010d5f": {
      "model_module": "@jupyter-widgets/base",
      "model_module_version": "1.2.0",
      "model_name": "LayoutModel",
      "state": {
       "margin": "0px 0px 10px 0px"
      }
     },
     "9863563a2ee24e529e2afc65b088b677": {
      "model_module": "@jupyter-widgets/controls",
      "model_module_version": "1.5.0",
      "model_name": "DescriptionStyleModel",
      "state": {
       "description_width": ""
      }
     },
     "9c9af2701f3741fa8e81d1937dc8dd22": {
      "model_module": "@jupyter-widgets/controls",
      "model_module_version": "1.5.0",
      "model_name": "DescriptionStyleModel",
      "state": {
       "description_width": ""
      }
     },
     "ab5f08228de447afbe8241291e87ed5b": {
      "model_module": "@jupyter-widgets/controls",
      "model_module_version": "1.5.0",
      "model_name": "DescriptionStyleModel",
      "state": {
       "description_width": ""
      }
     },
     "ab63db62abcb44dfa88b72d98711bf49": {
      "model_module": "@jupyter-widgets/base",
      "model_module_version": "1.2.0",
      "model_name": "LayoutModel",
      "state": {
       "grid_area": "right",
       "padding": "0px 0px 0px 0px",
       "width": "70px"
      }
     },
     "b0fd1b3d18ad4f9abe7f64481a27f8a0": {
      "model_module": "@jupyter-widgets/base",
      "model_module_version": "1.2.0",
      "model_name": "LayoutModel",
      "state": {}
     },
     "e78b872f68e946dfad52d356dacc1963": {
      "model_module": "@jupyter-widgets/controls",
      "model_module_version": "1.5.0",
      "model_name": "DescriptionStyleModel",
      "state": {
       "description_width": ""
      }
     },
     "ea8d6f25cb7648d99b23a803a0d5e2bd": {
      "model_module": "@jupyter-widgets/controls",
      "model_module_version": "1.5.0",
      "model_name": "HTMLModel",
      "state": {
       "layout": "IPY_MODEL_b0fd1b3d18ad4f9abe7f64481a27f8a0",
       "style": "IPY_MODEL_410eaa0fe79c4f078cbd523964592aa6",
       "value": "<h5>Message</h5>"
      }
     },
     "f3658dd773eb44a0af761a589414ccef": {
      "model_module": "@jupyter-widgets/controls",
      "model_module_version": "1.5.0",
      "model_name": "HTMLModel",
      "state": {
       "layout": "IPY_MODEL_486e3a760f0c49d883d3ef056bbfc031",
       "style": "IPY_MODEL_9c9af2701f3741fa8e81d1937dc8dd22",
       "value": "<h5>Backend</h5>"
      }
     },
     "f6e1068eb92941f5bdfabe6f81b00214": {
      "model_module": "@jupyter-widgets/base",
      "model_module_version": "1.2.0",
      "model_name": "LayoutModel",
      "state": {
       "width": "95px"
      }
     }
    },
    "version_major": 2,
    "version_minor": 0
   }
  }
 },
 "nbformat": 4,
 "nbformat_minor": 5
}
