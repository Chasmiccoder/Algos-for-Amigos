{
 "cells": [
  {
   "cell_type": "markdown",
   "id": "f98fa60a",
   "metadata": {},
   "source": [
    "# Grover's search\n",
    "\n",
    "Author : Dhiraj Madan, Advisory Research Engineer, IBM Research India\n",
    "\n",
    "---\n",
    "Done as part of the NPTEL Course - Introduction to Quantum Computing: Quantum Algorithms and Qiskit\n",
    "https://onlinecourses.nptel.ac.in/noc21_cs103/preview"
   ]
  },
  {
   "cell_type": "markdown",
   "id": "a11d7b7e",
   "metadata": {},
   "source": [
    " We will learn to implement Grover's search algorithm in this notebook.   \n",
    " The aim of Grover's Algorithm is to find the marked index in a list of elements.  \n",
    " The space we are searching is |0000>, |0001>, |0010>, ... |1111>  \n",
    " Binary Representation - q0 is the LSB and q3 is the MSB"
   ]
  },
  {
   "cell_type": "code",
   "execution_count": 1,
   "id": "754192a9",
   "metadata": {},
   "outputs": [
    {
     "name": "stdout",
     "output_type": "stream",
     "text": [
      "Process Complete!\n"
     ]
    }
   ],
   "source": [
    "import numpy as np\n",
    "# Importing standard Qiskit libraries\n",
    "from qiskit import QuantumCircuit, transpile, Aer, IBMQ\n",
    "from qiskit.tools.jupyter import *\n",
    "from qiskit.visualization import *\n",
    "#from ibm_quantum_widgets import *\n",
    "\n",
    "# Loading your IBM Q account(s)\n",
    "provider = IBMQ.load_account()\n",
    "print(\"Process Complete!\")"
   ]
  },
  {
   "cell_type": "code",
   "execution_count": 2,
   "id": "ed5fca86",
   "metadata": {},
   "outputs": [
    {
     "name": "stdout",
     "output_type": "stream",
     "text": [
      "Process Complete!\n"
     ]
    }
   ],
   "source": [
    "from qiskit import assemble\n",
    "import numpy as np\n",
    "import matplotlib.pyplot as plt\n",
    "print(\"Process Complete!\")"
   ]
  },
  {
   "cell_type": "markdown",
   "id": "49059061",
   "metadata": {},
   "source": [
    "We will work with 4 qubit data registers. Here we will search for an element amongs 0 to 2^4 -1 =15\n",
    "We will create an ancilla qubit to store |->. This will be needed to provide a phase."
   ]
  },
  {
   "cell_type": "code",
   "execution_count": 3,
   "id": "076e2981",
   "metadata": {},
   "outputs": [
    {
     "name": "stdout",
     "output_type": "stream",
     "text": [
      "Process Complete!\n"
     ]
    }
   ],
   "source": [
    "n=4\n",
    "grover_ckt = QuantumCircuit(n+1, n)\n",
    "marked = [1,0,1,1] # 1101 element is marked (lsb to msb)=>13\n",
    "print(\"Process Complete!\")"
   ]
  },
  {
   "cell_type": "markdown",
   "id": "86b5fef1",
   "metadata": {},
   "source": [
    "Here is our oracle function. For a given n (number of data qubits), an integer marked (the index of marked element) and a circuit,\n",
    "it applies the following oracle $U_{marked}|x>|y> =|x>|y \\oplus f(x)>$. \n",
    "\n",
    "Here f(x) = 1 if  x is the marked index and 0 otherwise.\n"
   ]
  },
  {
   "cell_type": "code",
   "execution_count": 4,
   "id": "c938c79e",
   "metadata": {},
   "outputs": [
    {
     "name": "stdout",
     "output_type": "stream",
     "text": [
      "Process Complete!\n"
     ]
    }
   ],
   "source": [
    "def apply_oracle(n,marked,ckt):\n",
    "    \"\"\"\n",
    "    The oracle will be given as a black box, but we'll implement it from scratch in this case\n",
    "    This excludes the ancilla qubit |->\n",
    "    \n",
    "    Here marked is a list containing the marked number in binary.\n",
    "    Since qiskit takes the lsb first, it is in reverse, so 13 will be [1,0,1,1]\n",
    "    \"\"\"\n",
    "    control0 = [i for i in range(n) if not marked[i]]\n",
    "    ckt.x(control0)\n",
    "    ckt.mct(list(range(n)),n)\n",
    "    ckt.x(control0)\n",
    "    ckt.draw()\n",
    "    \n",
    "print(\"Process Complete!\")"
   ]
  },
  {
   "cell_type": "markdown",
   "id": "c45fda82",
   "metadata": {},
   "source": [
    "# Exercise 1\n",
    "You need to complete the function in the cell below to reflect about the unform superposition state. \n",
    " This should take a circuit object, and an integer n : The number of data qubits \n",
    " (excluding the ancilla qubit to store |-> state). The goal is to add operations to refect about the\n",
    " superposed state.\n",
    "As a step you need to be able to reflect about 0's. You will find the function mct helpful \n",
    "https://qiskit.org/documentation/stubs/qiskit.circuit.library.MCMT.html"
   ]
  },
  {
   "cell_type": "code",
   "execution_count": 5,
   "id": "0e494a38",
   "metadata": {},
   "outputs": [
    {
     "name": "stdout",
     "output_type": "stream",
     "text": [
      "Process Complete!\n"
     ]
    }
   ],
   "source": [
    "\"\"\"\n",
    "Bring the state to |0000>, then apply the oracle, then bring it back in superposition\n",
    "We'll need to the Multi Control Toffoli Gate again\n",
    "\"\"\"\n",
    "\n",
    "def reflect_uniform(ckt,n):\n",
    "    ckt.h(list(range(n)))\n",
    "    \n",
    "    ckt.x(list(range(n)))\n",
    "    ckt.mct(list(range(n)), n)\n",
    "    ckt.x(list(range(n)))\n",
    "    \n",
    "    ckt.h(list(range(n)))\n",
    "    ckt.x(n)\n",
    "\n",
    "print(\"Process Complete!\")"
   ]
  },
  {
   "cell_type": "markdown",
   "id": "ac5d6bbd",
   "metadata": {},
   "source": [
    "Let's start building the circuit now. We start by create a superposition of all states i.e.\n",
    "\n",
    "$|\\psi> = \\frac{1}{\\sqrt{2^n}} \\sum_{x\\in \\{0,1\\}^n} |x>$. \n",
    "\n",
    "Note that the final qubit needs to be placed in state |-> as required.  "
   ]
  },
  {
   "cell_type": "code",
   "execution_count": 6,
   "id": "4005f07b",
   "metadata": {},
   "outputs": [
    {
     "name": "stdout",
     "output_type": "stream",
     "text": [
      "Process Complete!\n"
     ]
    }
   ],
   "source": [
    "grover_ckt.x(n)\n",
    "grover_ckt.barrier()\n",
    "grover_ckt.h(list(range(n+1)))\n",
    "\n",
    "print(\"Process Complete!\")"
   ]
  },
  {
   "cell_type": "code",
   "execution_count": 7,
   "id": "ebcb54bb",
   "metadata": {},
   "outputs": [
    {
     "data": {
      "image/png": "[encoded data removed]",
      "text/plain": [
       "<Figure size 267.197x385.28 with 1 Axes>"
      ]
     },
     "execution_count": 7,
     "metadata": {},
     "output_type": "execute_result"
    }
   ],
   "source": [
    "grover_ckt.draw()\n"
   ]
  },
  {
   "cell_type": "markdown",
   "id": "51a11f37",
   "metadata": {},
   "source": [
    "Let's run this circuit now. We will obtain the statevector and keep the first n qubits (leaving the |-> state ancilla qubit as is)."
   ]
  },
  {
   "cell_type": "code",
   "execution_count": 8,
   "id": "d80c9e97",
   "metadata": {},
   "outputs": [
    {
     "name": "stdout",
     "output_type": "stream",
     "text": [
      "Statevector in input (n) Qubits:  [0.1767767-2.16489014e-17j 0.1767767-2.16489014e-17j\n",
      " 0.1767767-2.16489014e-17j 0.1767767-2.16489014e-17j\n",
      " 0.1767767-2.16489014e-17j 0.1767767-2.16489014e-17j\n",
      " 0.1767767-2.16489014e-17j 0.1767767-2.16489014e-17j\n",
      " 0.1767767-2.16489014e-17j 0.1767767-2.16489014e-17j\n",
      " 0.1767767-2.16489014e-17j 0.1767767-2.16489014e-17j\n",
      " 0.1767767-2.16489014e-17j 0.1767767-2.16489014e-17j\n",
      " 0.1767767-2.16489014e-17j 0.1767767-2.16489014e-17j]\n",
      "Process Complete!\n"
     ]
    },
    {
     "name": "stderr",
     "output_type": "stream",
     "text": [
      "/opt/conda/lib/python3.8/site-packages/qiskit/utils/deprecation.py:62: DeprecationWarning: Using a qobj for run() is deprecated as of qiskit-aer 0.9.0 and will be removed no sooner than 3 months from that release date. Transpiled circuits should now be passed directly using `backend.run(circuits, **run_options).\n",
      "  return func(*args, **kwargs)\n"
     ]
    }
   ],
   "source": [
    "svsim = Aer.get_backend('statevector_simulator') # Tell Qiskit how to simulate our circuit\n",
    "qobj = assemble(grover_ckt)                      # Create a Qobj from the circuit for the simulator to run\n",
    "result = svsim.run(qobj).result()                # Do the simulation and return the result\n",
    "statevector = result.data()['statevector']\n",
    "statevector = statevector[:2**n]\n",
    "print(\"Statevector in input (n) Qubits: \", statevector) \n",
    "print(\"Process Complete!\")"
   ]
  },
  {
   "cell_type": "markdown",
   "id": "bd9ba16d",
   "metadata": {},
   "source": [
    "Let's plot this state vector on a 2 d plane spanned by the marked element state |a> and the superposition of unmarked states |e>. "
   ]
  },
  {
   "cell_type": "code",
   "execution_count": 9,
   "id": "5937f8f7",
   "metadata": {},
   "outputs": [
    {
     "name": "stdout",
     "output_type": "stream",
     "text": [
      "\n",
      "Ket a:  [0. 0. 0. 0. 0. 0. 0. 0. 0. 0. 0. 0. 0. 1. 0. 0.]\n",
      "\n",
      "Ket e:  [0.25819889 0.25819889 0.25819889 0.25819889 0.25819889 0.25819889\n",
      " 0.25819889 0.25819889 0.25819889 0.25819889 0.25819889 0.25819889\n",
      " 0.25819889 0.         0.25819889 0.25819889]\n",
      "Process Complete!\n"
     ]
    }
   ],
   "source": [
    "marked = [1,0,1,1] # Corresponds to integer 1101 in binary => 13\n",
    "ket_a = np.zeros(2**n)\n",
    "ket_a[13] =1\n",
    "ket_e = (np.ones(2**n) - ket_a)/np.sqrt(2**n -1)\n",
    "print(\"\\nKet a: \", ket_a)\n",
    "print(\"\\nKet e: \", ket_e)\n",
    "\n",
    "print(\"Process Complete!\")\n"
   ]
  },
  {
   "cell_type": "code",
   "execution_count": 10,
   "id": "ad9a75a8",
   "metadata": {},
   "outputs": [
    {
     "name": "stdout",
     "output_type": "stream",
     "text": [
      "Process Complete!\n"
     ]
    }
   ],
   "source": [
    "def get_projection(psi,e,a ):\n",
    "    proj =  [np.real(np.vdot(e,psi)), np.real(np.vdot(a,psi))]\n",
    "    return proj\n",
    "\n",
    "def plt_vector(proj, axes =[0.0,1.0,0.0,1.0]):\n",
    "    x_pos = 0\n",
    "    y_pos = 0\n",
    "    x_direct = proj[0]\n",
    "    y_direct = proj[1]\n",
    "\n",
    "    # Creating plot\n",
    "    fig, ax = plt.subplots()\n",
    "    ax.quiver(x_pos, y_pos, x_direct, y_direct,scale=1.0)\n",
    "\n",
    "    ax.axis(axes)\n",
    "\n",
    "    plt.xlabel(\"|e>\")\n",
    "    plt.ylabel(\"|a>\")\n",
    "    # show plot\n",
    "    plt.show()\n",
    "    \n",
    "print(\"Process Complete!\")"
   ]
  },
  {
   "cell_type": "code",
   "execution_count": 11,
   "id": "f5f83485",
   "metadata": {},
   "outputs": [
    {
     "data": {
      "image/png": "[encoded data removed]",
      "text/plain": [
       "<Figure size 432x288 with 1 Axes>"
      ]
     },
     "metadata": {
      "needs_background": "light"
     },
     "output_type": "display_data"
    }
   ],
   "source": [
    "proj = get_projection(statevector, ket_e, ket_a)\n",
    "plt_vector(proj)\n",
    "# The vector is closer to |e> than |a>"
   ]
  },
  {
   "cell_type": "markdown",
   "id": "a669a1e6",
   "metadata": {},
   "source": [
    "Now lets add the phase oracle which reflects the state about |e>."
   ]
  },
  {
   "cell_type": "code",
   "execution_count": 12,
   "id": "74121e03",
   "metadata": {},
   "outputs": [
    {
     "name": "stdout",
     "output_type": "stream",
     "text": [
      "Process Complete!\n"
     ]
    }
   ],
   "source": [
    "#grover_ckt.append(oracle, list(range(n+1)))\n",
    "apply_oracle(4,marked,grover_ckt)\n",
    "grover_ckt.barrier()\n",
    "print(\"Process Complete!\")"
   ]
  },
  {
   "cell_type": "markdown",
   "id": "14123ae9",
   "metadata": {},
   "source": [
    "This is how the circuit looks now."
   ]
  },
  {
   "cell_type": "code",
   "execution_count": 13,
   "id": "353fd2dc",
   "metadata": {},
   "outputs": [
    {
     "data": {
      "image/png": "[encoded data removed]",
      "text/plain": [
       "<Figure size 507.997x385.28 with 1 Axes>"
      ]
     },
     "execution_count": 13,
     "metadata": {},
     "output_type": "execute_result"
    }
   ],
   "source": [
    "grover_ckt.draw()"
   ]
  },
  {
   "cell_type": "markdown",
   "id": "548637d9",
   "metadata": {},
   "source": [
    "Now we reflect about the unform state. We use the function you completed as part of the exercise. "
   ]
  },
  {
   "cell_type": "code",
   "execution_count": 14,
   "id": "bcb25f08",
   "metadata": {},
   "outputs": [
    {
     "name": "stdout",
     "output_type": "stream",
     "text": [
      "Process Complete!\n"
     ]
    }
   ],
   "source": [
    "reflect_uniform(grover_ckt,n)\n",
    "print(\"Process Complete!\")"
   ]
  },
  {
   "cell_type": "code",
   "execution_count": 15,
   "id": "cd6a5a24",
   "metadata": {},
   "outputs": [
    {
     "data": {
      "image/png": "[encoded data removed]",
      "text/plain": [
       "<Figure size 869.197x385.28 with 1 Axes>"
      ]
     },
     "execution_count": 15,
     "metadata": {},
     "output_type": "execute_result"
    }
   ],
   "source": [
    "grover_ckt.barrier()\n",
    "grover_ckt.draw()"
   ]
  },
  {
   "cell_type": "markdown",
   "id": "c482ec6f",
   "metadata": {},
   "source": [
    "Now we run the circuit again and replot the state vector. Observe that it indeed gets rotate colckwise towards the marked state |a>"
   ]
  },
  {
   "cell_type": "code",
   "execution_count": 16,
   "id": "4cdcd1e0",
   "metadata": {},
   "outputs": [
    {
     "data": {
      "image/png": "[encoded data removed]",
      "text/plain": [
       "<Figure size 432x288 with 1 Axes>"
      ]
     },
     "metadata": {
      "needs_background": "light"
     },
     "output_type": "display_data"
    }
   ],
   "source": [
    "svsim = Aer.get_backend('statevector_simulator') # Tell Qiskit how to simulate our circuit\n",
    "qobj = assemble(grover_ckt)     # Create a Qobj from the circuit for the simulator to run\n",
    "result = svsim.run(qobj).result() # Do the simulation and return the result\n",
    "statevector = result.data()['statevector']\n",
    "\n",
    "statevector = statevector[:2**n]\n",
    "proj = get_projection(statevector, ket_e, ket_a)\n",
    "plt_vector(proj)\n",
    "\n",
    "# The vector has now moved closer to |a>"
   ]
  },
  {
   "cell_type": "markdown",
   "id": "b6e4b98a",
   "metadata": {},
   "source": [
    "Lets do another step of phase oracle followed by reflection about uniform."
   ]
  },
  {
   "cell_type": "code",
   "execution_count": 17,
   "id": "e7e541aa",
   "metadata": {},
   "outputs": [
    {
     "name": "stdout",
     "output_type": "stream",
     "text": [
      "Process Complete!\n"
     ]
    }
   ],
   "source": [
    "apply_oracle(4,marked,grover_ckt)\n",
    "\n",
    "grover_ckt.barrier()\n",
    "reflect_uniform(grover_ckt,n)\n",
    "grover_ckt.barrier()\n",
    "print(\"Process Complete!\")"
   ]
  },
  {
   "cell_type": "code",
   "execution_count": 18,
   "id": "4d383d7c",
   "metadata": {},
   "outputs": [
    {
     "data": {
      "image/png": "[encoded data removed]",
      "text/plain": [
       "<Figure size 1471.2x385.28 with 1 Axes>"
      ]
     },
     "execution_count": 18,
     "metadata": {},
     "output_type": "execute_result"
    }
   ],
   "source": [
    "grover_ckt.draw()"
   ]
  },
  {
   "cell_type": "code",
   "execution_count": 19,
   "id": "b406f762",
   "metadata": {},
   "outputs": [
    {
     "data": {
      "image/png": "[encoded data removed]",
      "text/plain": [
       "<Figure size 432x288 with 1 Axes>"
      ]
     },
     "metadata": {
      "needs_background": "light"
     },
     "output_type": "display_data"
    }
   ],
   "source": [
    "svsim = Aer.get_backend('statevector_simulator') # Tell Qiskit how to simulate our circuit\n",
    "qobj = assemble(grover_ckt)     # Create a Qobj from the circuit for the simulator to run\n",
    "result = svsim.run(qobj).result() # Do the simulation and return the result\n",
    "statevector = result.data()['statevector']\n",
    "\n",
    "statevector = statevector[:2**n]\n",
    "proj = get_projection(statevector, ket_e, ket_a)\n",
    "plt_vector(proj)"
   ]
  },
  {
   "cell_type": "markdown",
   "id": "ec98a22b",
   "metadata": {},
   "source": [
    "We observe that it indeed rotates clockwise towards |a>. Lets see when we repeat the 2 steps again."
   ]
  },
  {
   "cell_type": "code",
   "execution_count": 20,
   "id": "3844f9b6",
   "metadata": {},
   "outputs": [
    {
     "data": {
      "image/png": "[encoded data removed]",
      "text/plain": [
       "<Figure size 1591.6x806.68 with 1 Axes>"
      ]
     },
     "execution_count": 20,
     "metadata": {},
     "output_type": "execute_result"
    }
   ],
   "source": [
    "apply_oracle(4,marked,grover_ckt)\n",
    "\n",
    "grover_ckt.barrier()\n",
    "reflect_uniform(grover_ckt,n)\n",
    "grover_ckt.barrier()\n",
    "grover_ckt.draw()\n"
   ]
  },
  {
   "cell_type": "code",
   "execution_count": 21,
   "id": "529c1951",
   "metadata": {},
   "outputs": [
    {
     "data": {
      "image/png": "[encoded data removed]",
      "text/plain": [
       "<Figure size 432x288 with 1 Axes>"
      ]
     },
     "metadata": {
      "needs_background": "light"
     },
     "output_type": "display_data"
    }
   ],
   "source": [
    "svsim = Aer.get_backend('statevector_simulator') # Tell Qiskit how to simulate our circuit\n",
    "qobj = assemble(grover_ckt)     # Create a Qobj from the circuit for the simulator to run\n",
    "result = svsim.run(qobj).result() # Do the simulation and return the result\n",
    "statevector = result.data()['statevector']\n",
    "\n",
    "statevector = statevector[:2**n]\n",
    "proj = get_projection(statevector, ket_e, ket_a)\n",
    "plt_vector(proj, axes = [-1.0,1.0,-1.0,1.0])"
   ]
  },
  {
   "cell_type": "markdown",
   "id": "92e3fcb3",
   "metadata": {},
   "source": [
    "Now we observe that statevector falls into the second quadrant. At this point further rotations will not help much."
   ]
  },
  {
   "cell_type": "markdown",
   "id": "9739e083",
   "metadata": {},
   "source": [
    "# Exercise 2.1 \n",
    "Now we compute the theoretical number of rotations which maximize the angle keeping statevector in quadrant I. First compute the initial angle  $\\theta_0$. Store it in variable theta0.\n",
    "\n",
    "In real QCs, we can't 'view' the statevector as measuring it will collapse its superposition."
   ]
  },
  {
   "cell_type": "code",
   "execution_count": 22,
   "id": "786ff16d",
   "metadata": {},
   "outputs": [
    {
     "name": "stdout",
     "output_type": "stream",
     "text": [
      "Number of input qubits: 4\n",
      "0.25268025514207865\n",
      "Process Complete!\n"
     ]
    }
   ],
   "source": [
    "# theta0 will be sin(1/root(N)) where N = 2**n, where n is the number of input qubits\n",
    "\n",
    "import math\n",
    "print(\"Number of input qubits:\", n)\n",
    "theta0 = math.asin(1/((n**2)**0.5))\n",
    "\n",
    "print( theta0 )\n",
    "print(\"Process Complete!\")"
   ]
  },
  {
   "cell_type": "markdown",
   "id": "c100d257",
   "metadata": {},
   "source": [
    "# Exercise 2.2\n",
    "Each rotation increases this by $2 \\theta_0$. After T rotations it is $(2T+1)\\theta_0$. You need to find the largest such integer T so that it remains in quadrant I. Store it in variable T ."
   ]
  },
  {
   "cell_type": "code",
   "execution_count": 23,
   "id": "1c761337-0eb1-4dbb-9888-0762982e6662",
   "metadata": {},
   "outputs": [
    {
     "name": "stdout",
     "output_type": "stream",
     "text": [
      "T:  2\n",
      "Process Complete!\n"
     ]
    }
   ],
   "source": [
    "# Find theta_0 such that theta_0 + T * (2 * theta_0) < pi/2, and\n",
    "# theta_0 + (T+1) * (2 * theta_0) > pi/2\n",
    "from math import pi        \n",
    "\n",
    "T = 0\n",
    "argument = theta0\n",
    "\n",
    "while True:\n",
    "    if argument + 2 * theta0 > pi/2:\n",
    "        break\n",
    "    argument += 2 * theta0\n",
    "    T += 1\n",
    "\n",
    "print(\"T: \", T) \n",
    "print(\"Process Complete!\")"
   ]
  },
  {
   "cell_type": "markdown",
   "id": "7d50558e",
   "metadata": {},
   "source": [
    "Now to complete the story we create a new circuit and rotate preciely by number of times given bt T. "
   ]
  },
  {
   "cell_type": "code",
   "execution_count": 24,
   "id": "58a0fa93",
   "metadata": {},
   "outputs": [
    {
     "name": "stdout",
     "output_type": "stream",
     "text": [
      "Process Complete!\n"
     ]
    }
   ],
   "source": [
    "n = 4\n",
    "grover_ckt = QuantumCircuit(n+1, n)\n",
    "marked = [1,0,1,1] # 1101 element is marked (lsb to msb)=>13\n",
    "grover_ckt.x(n)\n",
    "grover_ckt.barrier()\n",
    "grover_ckt.h(list(range(n+1)))\n",
    "grover_ckt.barrier()\n",
    "\n",
    "for _ in range(int(np.floor(T))):\n",
    "    apply_oracle(4,marked,grover_ckt)\n",
    "\n",
    "    grover_ckt.barrier()\n",
    "    reflect_uniform(grover_ckt,n)\n",
    "    grover_ckt.barrier()\n",
    "\n",
    "for j in range(n):\n",
    "    grover_ckt.measure(j,j)\n",
    "\n",
    "print(\"Process Complete!\")"
   ]
  },
  {
   "cell_type": "code",
   "execution_count": 25,
   "id": "0429a146",
   "metadata": {},
   "outputs": [
    {
     "data": {
      "image/png": "[encoded data removed]",
      "text/plain": [
       "<Figure size 1591.6x806.68 with 1 Axes>"
      ]
     },
     "execution_count": 25,
     "metadata": {},
     "output_type": "execute_result"
    }
   ],
   "source": [
    "grover_ckt.draw()"
   ]
  },
  {
   "cell_type": "code",
   "execution_count": 26,
   "id": "4cf3a168",
   "metadata": {},
   "outputs": [
    {
     "name": "stdout",
     "output_type": "stream",
     "text": [
      "Process Complete!\n"
     ]
    }
   ],
   "source": [
    "sim = Aer.get_backend('qasm_simulator') # Tell Qiskit how to simulate our circuit\n",
    "qobj = assemble(grover_ckt)             # Create a Qobj from the circuit for the simulator to run\n",
    "result = sim.run(qobj).result()         # Do the simulation and return the result\n",
    "print(\"Process Complete!\")"
   ]
  },
  {
   "cell_type": "code",
   "execution_count": 27,
   "id": "b1e7b7ef",
   "metadata": {},
   "outputs": [
    {
     "data": {
      "text/plain": [
       "Result(backend_name='qasm_simulator', backend_version='0.9.1', qobj_id='c5e7e472-6340-41f8-8eb3-2f32116044e5', job_id='6ee561f0-d7bc-4e09-9e19-a1fafeb8fee9', success=True, results=[ExperimentResult(shots=1024, success=True, meas_level=2, data=ExperimentResultData(counts={'0xf': 1, '0xa': 8, '0xe': 4, '0x1': 8, '0xc': 3, '0x5': 2, '0x8': 6, '0x4': 8, '0x6': 9, '0xd': 933, '0x2': 11, '0xb': 8, '0x9': 3, '0x0': 7, '0x7': 8, '0x3': 5}), header=QobjExperimentHeader(clbit_labels=[['c', 0], ['c', 1], ['c', 2], ['c', 3]], creg_sizes=[['c', 4]], global_phase=0.0, memory_slots=4, metadata=None, n_qubits=5, name='circuit-4', qreg_sizes=[['q', 5]], qubit_labels=[['q', 0], ['q', 1], ['q', 2], ['q', 3], ['q', 4]]), status=DONE, seed_simulator=2476602623, metadata={'parallel_state_update': 8, 'noise': 'ideal', 'measure_sampling': True, 'device': 'CPU', 'num_qubits': 5, 'parallel_shots': 1, 'remapped_qubits': False, 'method': 'statevector', 'active_input_qubits': [0, 1, 2, 3, 4], 'num_clbits': 4, 'input_qubit_map': [[4, 4], [3, 3], [2, 2], [0, 0], [1, 1]], 'fusion': {'applied': False, 'max_fused_qubits': 5, 'enabled': True, 'threshold': 14}}, time_taken=0.002878115)], date=2021-10-23T03:41:13.470092, status=COMPLETED, metadata={'time_taken': 0.003287172, 'parallel_experiments': 1, 'omp_enabled': True, 'max_gpu_memory_mb': 0, 'num_mpi_processes': 1, 'max_memory_mb': 32153, 'mpi_rank': 0}, time_taken=0.0034644603729248047)"
      ]
     },
     "execution_count": 27,
     "metadata": {},
     "output_type": "execute_result"
    }
   ],
   "source": [
    "result"
   ]
  },
  {
   "cell_type": "code",
   "execution_count": 28,
   "id": "0afff95b",
   "metadata": {},
   "outputs": [
    {
     "name": "stdout",
     "output_type": "stream",
     "text": [
      "{'1111': 1, '1010': 8, '1110': 4, '0001': 8, '1100': 3, '0101': 2, '1000': 6, '0100': 8, '0110': 9, '1101': 933, '0010': 11, '1011': 8, '1001': 3, '0000': 7, '0111': 8, '0011': 5}\n"
     ]
    }
   ],
   "source": [
    "counts = result.get_counts(grover_ckt)\n",
    "print(counts)"
   ]
  },
  {
   "cell_type": "code",
   "execution_count": 29,
   "id": "74f87e7e",
   "metadata": {},
   "outputs": [
    {
     "data": {
      "image/png": "[encoded data removed]",
      "text/plain": [
       "<Figure size 504x360 with 1 Axes>"
      ]
     },
     "execution_count": 29,
     "metadata": {},
     "output_type": "execute_result"
    }
   ],
   "source": [
    "plot_histogram(counts)\n",
    "# Representation - 1011, so q0 is the LSB and q3 is the MSB"
   ]
  },
  {
   "cell_type": "markdown",
   "id": "c9d177f4",
   "metadata": {},
   "source": [
    "# Concluding remarks and points to ponder\n",
    "We see that the above plot has highest measured probability for marked index i.e. 13 ( or 1101).\n",
    "This completes the implementation of Grover's search for a single marked element. Here are a few more points to ponder about for future :-\n",
    "1. What happens when there are more than 1 marked elements. How will the algorithm change. What is the initial angle and rotation in each step.\n",
    "2. What if you dont know the number of marked elements. What will be the modfications needed ?"
   ]
  },
  {
   "cell_type": "markdown",
   "id": "1e4cef57",
   "metadata": {},
   "source": [
    "# References \n",
    "1. L. K. Grover (1996), \"A fast quantum mechanical algorithm for database search\", Proceedings of the 28th Annual ACM Symposium on the Theory of Computing (STOC 1996), doi:10.1145/237814.237866, arXiv:quant-ph/9605043\n",
    "\n",
    "1. I. Chuang & M. Nielsen, \"Quantum Computation and Quantum Information\", Cambridge: Cambridge University Press, 2000.\n",
    "\n",
    "1. Qiskit Textbook : https://qiskit.org/textbook/ch-algorithms/grover.html\n"
   ]
  },
  {
   "cell_type": "code",
   "execution_count": null,
   "id": "f77961da",
   "metadata": {},
   "outputs": [],
   "source": []
  }
 ],
 "metadata": {
  "kernelspec": {
   "display_name": "Python 3",
   "language": "python",
   "name": "python3"
  },
  "language_info": {
   "codemirror_mode": {
    "name": "ipython",
    "version": 3
   },
   "file_extension": ".py",
   "mimetype": "text/x-python",
   "name": "python",
   "nbconvert_exporter": "python",
   "pygments_lexer": "ipython3",
   "version": "3.8.8"
  },
  "widgets": {
   "application/vnd.jupyter.widget-state+json": {
    "state": {
     "0255f6e3606947b88773cf18d04e51c7": {
      "model_module": "@jupyter-widgets/controls",
      "model_module_version": "1.5.0",
      "model_name": "DescriptionStyleModel",
      "state": {
       "description_width": ""
      }
     },
     "176a6d13cd1c4dd6b73696350bcc9ae0": {
      "model_module": "@jupyter-widgets/base",
      "model_module_version": "1.2.0",
      "model_name": "LayoutModel",
      "state": {
       "width": "145px"
      }
     },
     "1ba5967c96544b6dbc0f7837af65becf": {
      "model_module": "@jupyter-widgets/base",
      "model_module_version": "1.2.0",
      "model_name": "LayoutModel",
      "state": {}
     },
     "1bcad4d8d28349428cea7c707dd2e4e6": {
      "model_module": "@jupyter-widgets/controls",
      "model_module_version": "1.5.0",
      "model_name": "ButtonModel",
      "state": {
       "button_style": "primary",
       "description": "Clear",
       "layout": "IPY_MODEL_38a92c9cdfb0421d9f1b51d902251e8b",
       "style": "IPY_MODEL_e01b892658b34874bf3862c8e8deb625"
      }
     },
     "1fe9e1c5aedb499b8393839627c6b93f": {
      "model_module": "@jupyter-widgets/controls",
      "model_module_version": "1.5.0",
      "model_name": "DescriptionStyleModel",
      "state": {
       "description_width": ""
      }
     },
     "2336a10e7ba947408899198181404bb4": {
      "model_module": "@jupyter-widgets/controls",
      "model_module_version": "1.5.0",
      "model_name": "HTMLModel",
      "state": {
       "layout": "IPY_MODEL_5979cfbecf594df294b71bdb16b29aad",
       "style": "IPY_MODEL_26e42e0d01ba417d8feeee044bae0a99",
       "value": "<h5>Job ID</h5>"
      }
     },
     "26e42e0d01ba417d8feeee044bae0a99": {
      "model_module": "@jupyter-widgets/controls",
      "model_module_version": "1.5.0",
      "model_name": "DescriptionStyleModel",
      "state": {
       "description_width": ""
      }
     },
     "27f75cc427b440578152e941dc43c323": {
      "model_module": "@jupyter-widgets/controls",
      "model_module_version": "1.5.0",
      "model_name": "GridBoxModel",
      "state": {
       "children": [
        "IPY_MODEL_1bcad4d8d28349428cea7c707dd2e4e6"
       ],
       "layout": "IPY_MODEL_3a438a8472884404809fcbf37e1f05a7"
      }
     },
     "34829c56cab14ae4be443afae8fdcde2": {
      "model_module": "@jupyter-widgets/base",
      "model_module_version": "1.2.0",
      "model_name": "LayoutModel",
      "state": {
       "width": "70px"
      }
     },
     "387d8e62554341a3a573559a8de8077c": {
      "model_module": "@jupyter-widgets/controls",
      "model_module_version": "1.5.0",
      "model_name": "DescriptionStyleModel",
      "state": {
       "description_width": ""
      }
     },
     "38a92c9cdfb0421d9f1b51d902251e8b": {
      "model_module": "@jupyter-widgets/base",
      "model_module_version": "1.2.0",
      "model_name": "LayoutModel",
      "state": {
       "grid_area": "right",
       "padding": "0px 0px 0px 0px",
       "width": "70px"
      }
     },
     "3a438a8472884404809fcbf37e1f05a7": {
      "model_module": "@jupyter-widgets/base",
      "model_module_version": "1.2.0",
      "model_name": "LayoutModel",
      "state": {
       "grid_template_areas": "\n                                       \". . . . right \"\n                                        ",
       "grid_template_columns": "20% 20% 20% 20% 20%",
       "width": "100%"
      }
     },
     "4504c9856f4e4271887112a36def4b7e": {
      "model_module": "@jupyter-widgets/controls",
      "model_module_version": "1.5.0",
      "model_name": "HTMLModel",
      "state": {
       "layout": "IPY_MODEL_34829c56cab14ae4be443afae8fdcde2",
       "style": "IPY_MODEL_f98059571ea24321b7dcf9b486d3563c",
       "value": "<h5>Queue</h5>"
      }
     },
     "493db7ca0cd94fd1afd91572f5e9d29f": {
      "model_module": "@jupyter-widgets/controls",
      "model_module_version": "1.5.0",
      "model_name": "HTMLModel",
      "state": {
       "layout": "IPY_MODEL_176a6d13cd1c4dd6b73696350bcc9ae0",
       "style": "IPY_MODEL_0255f6e3606947b88773cf18d04e51c7",
       "value": "<h5>Backend</h5>"
      }
     },
     "5979cfbecf594df294b71bdb16b29aad": {
      "model_module": "@jupyter-widgets/base",
      "model_module_version": "1.2.0",
      "model_name": "LayoutModel",
      "state": {
       "width": "190px"
      }
     },
     "62e8a40fa1e841e4a9850a163a2867bc": {
      "model_module": "@jupyter-widgets/base",
      "model_module_version": "1.2.0",
      "model_name": "LayoutModel",
      "state": {
       "width": "95px"
      }
     },
     "7b5a59e4f4a84c3dada06158b6137e09": {
      "model_module": "@jupyter-widgets/controls",
      "model_module_version": "1.5.0",
      "model_name": "HTMLModel",
      "state": {
       "layout": "IPY_MODEL_9f409ed6601d46548fdf7715d5d123f5",
       "style": "IPY_MODEL_7d1ecca0d46b4f7c93c61c59993d262f",
       "value": "<p style='font-family: IBM Plex Sans, Arial, Helvetica, sans-serif; font-size: 20px; font-weight: medium;'>Circuit Properties</p>"
      }
     },
     "7d1ecca0d46b4f7c93c61c59993d262f": {
      "model_module": "@jupyter-widgets/controls",
      "model_module_version": "1.5.0",
      "model_name": "DescriptionStyleModel",
      "state": {
       "description_width": ""
      }
     },
     "7e734b6e96c84741b9bfaa1fa738ac4b": {
      "model_module": "@jupyter-widgets/base",
      "model_module_version": "1.2.0",
      "model_name": "LayoutModel",
      "state": {
       "margin": "0px 0px 0px 37px",
       "width": "600px"
      }
     },
     "82afd400c56c48d48aa49d870d804dd7": {
      "model_module": "@jupyter-widgets/controls",
      "model_module_version": "1.5.0",
      "model_name": "HBoxModel",
      "state": {
       "children": [
        "IPY_MODEL_2336a10e7ba947408899198181404bb4",
        "IPY_MODEL_493db7ca0cd94fd1afd91572f5e9d29f",
        "IPY_MODEL_8f54b3ce063a48c99e6ef2928b06a0ce",
        "IPY_MODEL_4504c9856f4e4271887112a36def4b7e",
        "IPY_MODEL_d721b746ed3a4187b0b0db0c68ed79bb"
       ],
       "layout": "IPY_MODEL_7e734b6e96c84741b9bfaa1fa738ac4b"
      }
     },
     "8f54b3ce063a48c99e6ef2928b06a0ce": {
      "model_module": "@jupyter-widgets/controls",
      "model_module_version": "1.5.0",
      "model_name": "HTMLModel",
      "state": {
       "layout": "IPY_MODEL_62e8a40fa1e841e4a9850a163a2867bc",
       "style": "IPY_MODEL_387d8e62554341a3a573559a8de8077c",
       "value": "<h5>Status</h5>"
      }
     },
     "9f409ed6601d46548fdf7715d5d123f5": {
      "model_module": "@jupyter-widgets/base",
      "model_module_version": "1.2.0",
      "model_name": "LayoutModel",
      "state": {
       "margin": "0px 0px 10px 0px"
      }
     },
     "d721b746ed3a4187b0b0db0c68ed79bb": {
      "model_module": "@jupyter-widgets/controls",
      "model_module_version": "1.5.0",
      "model_name": "HTMLModel",
      "state": {
       "layout": "IPY_MODEL_1ba5967c96544b6dbc0f7837af65becf",
       "style": "IPY_MODEL_1fe9e1c5aedb499b8393839627c6b93f",
       "value": "<h5>Message</h5>"
      }
     },
     "e01b892658b34874bf3862c8e8deb625": {
      "model_module": "@jupyter-widgets/controls",
      "model_module_version": "1.5.0",
      "model_name": "ButtonStyleModel",
      "state": {}
     },
     "f98059571ea24321b7dcf9b486d3563c": {
      "model_module": "@jupyter-widgets/controls",
      "model_module_version": "1.5.0",
      "model_name": "DescriptionStyleModel",
      "state": {
       "description_width": ""
      }
     }
    },
    "version_major": 2,
    "version_minor": 0
   }
  }
 },
 "nbformat": 4,
 "nbformat_minor": 5
}
